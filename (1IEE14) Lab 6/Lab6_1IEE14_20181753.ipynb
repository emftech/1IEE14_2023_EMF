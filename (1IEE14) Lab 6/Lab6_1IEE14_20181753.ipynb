{
 "cells": [
  {
   "attachments": {},
   "cell_type": "markdown",
   "metadata": {},
   "source": [
    "# Laboratorio 6 - Arquitectura de Computadoras 23-1\n",
    "\n",
    "Alumno: Estéfano Machado Ferrer (20181753)\n",
    "\n",
    "Fecha: 04-05-2023\n",
    "\n",
    "Curso y Horario: Arquitectura de Computadoras (1IEE14) - Horario de Laboratorio 0621"
   ]
  },
  {
   "attachments": {},
   "cell_type": "markdown",
   "metadata": {},
   "source": [
    "## Enunciado"
   ]
  },
  {
   "attachments": {},
   "cell_type": "markdown",
   "metadata": {},
   "source": [
    "Se le brinda dos códigos en C: Programa1_1.c y Programa1_2.c. Ambos generan el mismo resultado pero se han implementado de diferentes maneras. Se le pide lo siguiente:\n",
    "\n",
    "1) (1.0 punto) Incluir la medición de tiempo desde C considerando únicamente el cálculo de la suma para ambos programas. Imprimir el tiempo de ejecución al ejecutar los programas. Utilice las unidades que mejor se ajusten al tiempo de ejecución de su PC. No usar más de dos decimales.\n",
    "\n",
    "2) (1.0 punto) Realizar 15 ejecuciones desde el terminal para ambos archivos ejecutables. Realizar una captura de pantalla de su ejecución. Los tiempos en su imagen deben ser visibles.\n",
    "\n",
    "3) (1.0 punto) Adjuntar una tabla con todas las mediciones.\n",
    "\n",
    "4) (1.0 punto) Explicar cómo se relaciona el Programa1_1.c con los conceptos de localidad temporal y localidad espacial.\n",
    "\n",
    "5) (1.0 punto) Explicar cómo se relaciona el Programa1_2.c con los conceptos de localidad temporal y localidad espacial.\n",
    "\n",
    "6) (1.0 punto) Utilizar el comando getconf -a | grep CACHE en el terminal y verificar el tamaño de bloque de su computador. Recordar que el tamaño de bloque en el nivel 1 se ve en la línea LEVEL1_DCACHE_LINESIZE (en bytes). Adjuntar captura de pantalla.\n",
    "\n",
    "7) (2.0 punto) Conociendo los datos previos, ¿es posible saber en qué momento se produce hit o miss? De ser posible, comentar el ejemplo, de no serlo, explicar porqué.\n",
    "\n",
    "8) (4.0 puntos) Basándose en todas las respuestas de los incisos anteriores, ¿qué implementación genera mejores tiempos de ejecución? Justificar su respuesta.\n",
    "\n",
    "9) (3.0 puntos) ¿Cómo influye el tipo de datos del arreglo en este ejercicio? Esperaría resultados similares para un tipo char, short, long? Comentar acerca de su respuesta."
   ]
  },
  {
   "attachments": {},
   "cell_type": "markdown",
   "metadata": {},
   "source": [
    "## Parte 1"
   ]
  },
  {
   "attachments": {},
   "cell_type": "markdown",
   "metadata": {},
   "source": [
    "Vamos a editar ambos programas dados (sobreescribiendo las files) para incluír las mediciones de tiempo requeridas:"
   ]
  },
  {
   "cell_type": "code",
   "execution_count": 85,
   "metadata": {},
   "outputs": [
    {
     "name": "stdout",
     "output_type": "stream",
     "text": [
      "Overwriting Programa1_1.c\n"
     ]
    }
   ],
   "source": [
    "%%file Programa1_1.c\n",
    "\n",
    "#include <stdio.h>\n",
    "#include <time.h> //Usamos la librería time.h para realizar las mediciones de tiempo de ejecución\n",
    "\n",
    "#define N 1000000\n",
    "\n",
    "int main() {\n",
    "  int sum = 0;\n",
    "  int array[N];\n",
    "\n",
    "  // Initialize the array\n",
    "  for (int i = 0; i < N; i++) {\n",
    "    array[i] = i;\n",
    "  }\n",
    "\n",
    "  //Mediremos el tiempo de ejecución a partir de que se calcula la suma del arreglo\n",
    "  struct timespec ti, tf; //declaramos las variables en las que mediremos el tiempo de ejecución\n",
    "  double t_elapsed; //declaramos la variable en la que guardaremos el cálculo del tiempo de ejecución\n",
    "  clock_gettime(CLOCK_REALTIME, &ti); //Inicio de la medición tiempo de ejecución\n",
    "  // Calculate the sum of the array\n",
    "  for (int i = 0; i < N; i++) {\n",
    "    sum += array[i];\n",
    "  }\n",
    "  clock_gettime(CLOCK_REALTIME, &tf); //Fin de la medición tiempo de ejecución\n",
    "\n",
    "  //Calculamos el tiempo de ejecución y lo imprimimos en el terminal\n",
    "  t_elapsed = (tf.tv_sec - ti.tv_sec) * 1e9 + (tf.tv_nsec - ti.tv_nsec);\n",
    "  printf(\"El tiempo de ejecución del cálculo de la suma del Programa_1_1 es %.2f nanosegundos.\\n\", t_elapsed);\n",
    "\n",
    "  // Print the sum\n",
    "  printf(\"Sum: %d\\n\", sum);\n",
    "\n",
    "  \n",
    "\n",
    "  return 0;\n",
    "}"
   ]
  },
  {
   "cell_type": "code",
   "execution_count": 86,
   "metadata": {},
   "outputs": [
    {
     "name": "stdout",
     "output_type": "stream",
     "text": [
      "Overwriting Programa1_2.c\n"
     ]
    }
   ],
   "source": [
    "%%file Programa1_2.c\n",
    "\n",
    "#include <stdio.h>\n",
    "#include <time.h> //Usamos la librería time.h para realizar las mediciones de tiempo de ejecución\n",
    "\n",
    "#define N 1000000\n",
    "\n",
    "int main() {\n",
    "  int sum = 0;\n",
    "\n",
    "  //Mediremos el tiempo de ejecución a partir de que se calcula la suma del arreglo\n",
    "  struct timespec ti, tf; //declaramos las variables en las que mediremos el tiempo de ejecución\n",
    "  double t_elapsed; //declaramos la variable en la que guardaremos el cálculo del tiempo de ejecución\n",
    "  clock_gettime(CLOCK_REALTIME, &ti); //Inicio de la medición tiempo de ejecución\n",
    "  // Calculate the sum of the array\n",
    "  for (int i = 0; i < N; i++) {\n",
    "    sum += i;\n",
    "  }\n",
    "  clock_gettime(CLOCK_REALTIME, &tf); //Fin de la medición tiempo de ejecución\n",
    "  //Calculamos el tiempo de ejecución y lo imprimimos en el terminal\n",
    "  t_elapsed = (tf.tv_sec - ti.tv_sec) * 1e9 + (tf.tv_nsec - ti.tv_nsec);\n",
    "  printf(\"El tiempo de ejecución del cálculo de la suma del Programa_1_2 es %.2f nanosegundos.\\n\", t_elapsed);\n",
    "\n",
    "  // Print the sum\n",
    "  printf(\"Sum: %d\\n\", sum);\n",
    "\n",
    "  return 0;\n",
    "}"
   ]
  },
  {
   "attachments": {},
   "cell_type": "markdown",
   "metadata": {},
   "source": [
    "Procedemos a compilar y generar ejecutables para ambos programas dados:"
   ]
  },
  {
   "cell_type": "code",
   "execution_count": 87,
   "metadata": {},
   "outputs": [],
   "source": [
    "! gcc Programa1_1.c -o Programa1_1 & ! gcc Programa1_2.c -o Programa1_2"
   ]
  },
  {
   "cell_type": "code",
   "execution_count": 88,
   "metadata": {},
   "outputs": [
    {
     "name": "stdout",
     "output_type": "stream",
     "text": [
      "El tiempo de ejecución del cálculo de la suma del Programa_1_1 es 18827338.00 nanosegundos.\n",
      "Sum: 1783293664\n"
     ]
    }
   ],
   "source": [
    "#Ejecutamos ambos programas:\n",
    "! ./Programa1_1"
   ]
  },
  {
   "cell_type": "code",
   "execution_count": 89,
   "metadata": {},
   "outputs": [
    {
     "name": "stdout",
     "output_type": "stream",
     "text": [
      "El tiempo de ejecución del cálculo de la suma del Programa_1_2 es 14237718.00 nanosegundos.\n",
      "Sum: 1783293664\n"
     ]
    }
   ],
   "source": [
    "! ./Programa1_2"
   ]
  },
  {
   "attachments": {},
   "cell_type": "markdown",
   "metadata": {},
   "source": [
    "## Parte 2"
   ]
  },
  {
   "attachments": {},
   "cell_type": "markdown",
   "metadata": {},
   "source": [
    "Procederemos a realizar 15 ejecuciones de cada programa desde el terminal para luego comparar los tiempos de ejecución"
   ]
  },
  {
   "attachments": {},
   "cell_type": "markdown",
   "metadata": {},
   "source": [
    "Ejecución 1:"
   ]
  },
  {
   "cell_type": "code",
   "execution_count": 90,
   "metadata": {},
   "outputs": [
    {
     "name": "stdout",
     "output_type": "stream",
     "text": [
      "El tiempo de ejecución del cálculo de la suma del Programa_1_1 es 5196437.00 nanosegundos.\n",
      "Sum: 1783293664\n"
     ]
    }
   ],
   "source": [
    "! ./Programa1_1"
   ]
  },
  {
   "cell_type": "code",
   "execution_count": 91,
   "metadata": {},
   "outputs": [
    {
     "name": "stdout",
     "output_type": "stream",
     "text": [
      "El tiempo de ejecución del cálculo de la suma del Programa_1_2 es 8767364.00 nanosegundos.\n",
      "Sum: 1783293664\n"
     ]
    }
   ],
   "source": [
    "! ./Programa1_2"
   ]
  },
  {
   "attachments": {},
   "cell_type": "markdown",
   "metadata": {},
   "source": [
    "Ejecución 2:"
   ]
  },
  {
   "cell_type": "code",
   "execution_count": 92,
   "metadata": {},
   "outputs": [
    {
     "name": "stdout",
     "output_type": "stream",
     "text": [
      "El tiempo de ejecución del cálculo de la suma del Programa_1_1 es 6179142.00 nanosegundos.\n",
      "Sum: 1783293664\n"
     ]
    }
   ],
   "source": [
    "! ./Programa1_1"
   ]
  },
  {
   "cell_type": "code",
   "execution_count": 93,
   "metadata": {},
   "outputs": [
    {
     "name": "stdout",
     "output_type": "stream",
     "text": [
      "El tiempo de ejecución del cálculo de la suma del Programa_1_2 es 35168424.00 nanosegundos.\n",
      "Sum: 1783293664\n"
     ]
    }
   ],
   "source": [
    "! ./Programa1_2"
   ]
  },
  {
   "attachments": {},
   "cell_type": "markdown",
   "metadata": {},
   "source": [
    "Ejecución 3:"
   ]
  },
  {
   "cell_type": "code",
   "execution_count": 94,
   "metadata": {},
   "outputs": [
    {
     "name": "stdout",
     "output_type": "stream",
     "text": [
      "El tiempo de ejecución del cálculo de la suma del Programa_1_1 es 18920310.00 nanosegundos.\n",
      "Sum: 1783293664\n"
     ]
    }
   ],
   "source": [
    "! ./Programa1_1"
   ]
  },
  {
   "cell_type": "code",
   "execution_count": 95,
   "metadata": {},
   "outputs": [
    {
     "name": "stdout",
     "output_type": "stream",
     "text": [
      "El tiempo de ejecución del cálculo de la suma del Programa_1_2 es 16496039.00 nanosegundos.\n",
      "Sum: 1783293664\n"
     ]
    }
   ],
   "source": [
    "! ./Programa1_2"
   ]
  },
  {
   "attachments": {},
   "cell_type": "markdown",
   "metadata": {},
   "source": [
    "Ejecución 4:"
   ]
  },
  {
   "cell_type": "code",
   "execution_count": 96,
   "metadata": {},
   "outputs": [
    {
     "name": "stdout",
     "output_type": "stream",
     "text": [
      "El tiempo de ejecución del cálculo de la suma del Programa_1_1 es 15663289.00 nanosegundos.\n",
      "Sum: 1783293664\n"
     ]
    }
   ],
   "source": [
    "! ./Programa1_1"
   ]
  },
  {
   "cell_type": "code",
   "execution_count": 97,
   "metadata": {},
   "outputs": [
    {
     "name": "stdout",
     "output_type": "stream",
     "text": [
      "El tiempo de ejecución del cálculo de la suma del Programa_1_2 es 4735576.00 nanosegundos.\n",
      "Sum: 1783293664\n"
     ]
    }
   ],
   "source": [
    "! ./Programa1_2"
   ]
  },
  {
   "attachments": {},
   "cell_type": "markdown",
   "metadata": {},
   "source": [
    "Ejecución 5:"
   ]
  },
  {
   "cell_type": "code",
   "execution_count": 98,
   "metadata": {},
   "outputs": [
    {
     "name": "stdout",
     "output_type": "stream",
     "text": [
      "El tiempo de ejecución del cálculo de la suma del Programa_1_1 es 4764567.00 nanosegundos.\n",
      "Sum: 1783293664\n"
     ]
    }
   ],
   "source": [
    "! ./Programa1_1"
   ]
  },
  {
   "cell_type": "code",
   "execution_count": 99,
   "metadata": {},
   "outputs": [
    {
     "name": "stdout",
     "output_type": "stream",
     "text": [
      "El tiempo de ejecución del cálculo de la suma del Programa_1_2 es 4104766.00 nanosegundos.\n",
      "Sum: 1783293664\n"
     ]
    }
   ],
   "source": [
    "! ./Programa1_2"
   ]
  },
  {
   "attachments": {},
   "cell_type": "markdown",
   "metadata": {},
   "source": [
    "Ejecución 6:"
   ]
  },
  {
   "cell_type": "code",
   "execution_count": 100,
   "metadata": {},
   "outputs": [
    {
     "name": "stdout",
     "output_type": "stream",
     "text": [
      "El tiempo de ejecución del cálculo de la suma del Programa_1_1 es 5137455.00 nanosegundos.\n",
      "Sum: 1783293664\n"
     ]
    }
   ],
   "source": [
    "! ./Programa1_1"
   ]
  },
  {
   "cell_type": "code",
   "execution_count": 101,
   "metadata": {},
   "outputs": [
    {
     "name": "stdout",
     "output_type": "stream",
     "text": [
      "El tiempo de ejecución del cálculo de la suma del Programa_1_2 es 3799858.00 nanosegundos.\n",
      "Sum: 1783293664\n"
     ]
    }
   ],
   "source": [
    "! ./Programa1_2"
   ]
  },
  {
   "attachments": {},
   "cell_type": "markdown",
   "metadata": {},
   "source": [
    "Ejecución 7:"
   ]
  },
  {
   "cell_type": "code",
   "execution_count": 102,
   "metadata": {},
   "outputs": [
    {
     "name": "stdout",
     "output_type": "stream",
     "text": [
      "El tiempo de ejecución del cálculo de la suma del Programa_1_1 es 5153451.00 nanosegundos.\n",
      "Sum: 1783293664\n"
     ]
    }
   ],
   "source": [
    "! ./Programa1_1"
   ]
  },
  {
   "cell_type": "code",
   "execution_count": 103,
   "metadata": {},
   "outputs": [
    {
     "name": "stdout",
     "output_type": "stream",
     "text": [
      "El tiempo de ejecución del cálculo de la suma del Programa_1_2 es 38651376.00 nanosegundos.\n",
      "Sum: 1783293664\n"
     ]
    }
   ],
   "source": [
    "! ./Programa1_2"
   ]
  },
  {
   "attachments": {},
   "cell_type": "markdown",
   "metadata": {},
   "source": [
    "Ejecución 8:"
   ]
  },
  {
   "cell_type": "code",
   "execution_count": 104,
   "metadata": {},
   "outputs": [
    {
     "name": "stdout",
     "output_type": "stream",
     "text": [
      "El tiempo de ejecución del cálculo de la suma del Programa_1_1 es 5122459.00 nanosegundos.\n",
      "Sum: 1783293664\n"
     ]
    }
   ],
   "source": [
    "! ./Programa1_1"
   ]
  },
  {
   "cell_type": "code",
   "execution_count": 105,
   "metadata": {},
   "outputs": [
    {
     "name": "stdout",
     "output_type": "stream",
     "text": [
      "El tiempo de ejecución del cálculo de la suma del Programa_1_2 es 16533028.00 nanosegundos.\n",
      "Sum: 1783293664\n"
     ]
    }
   ],
   "source": [
    "! ./Programa1_2"
   ]
  },
  {
   "attachments": {},
   "cell_type": "markdown",
   "metadata": {},
   "source": [
    "Ejecución 9:"
   ]
  },
  {
   "cell_type": "code",
   "execution_count": 106,
   "metadata": {},
   "outputs": [
    {
     "name": "stdout",
     "output_type": "stream",
     "text": [
      "El tiempo de ejecución del cálculo de la suma del Programa_1_1 es 5154450.00 nanosegundos.\n",
      "Sum: 1783293664\n"
     ]
    }
   ],
   "source": [
    "! ./Programa1_1"
   ]
  },
  {
   "cell_type": "code",
   "execution_count": 107,
   "metadata": {},
   "outputs": [
    {
     "name": "stdout",
     "output_type": "stream",
     "text": [
      "El tiempo de ejecución del cálculo de la suma del Programa_1_2 es 12018386.00 nanosegundos.\n",
      "Sum: 1783293664\n"
     ]
    }
   ],
   "source": [
    "! ./Programa1_2"
   ]
  },
  {
   "attachments": {},
   "cell_type": "markdown",
   "metadata": {},
   "source": [
    "Ejecución 10:"
   ]
  },
  {
   "cell_type": "code",
   "execution_count": 108,
   "metadata": {},
   "outputs": [
    {
     "name": "stdout",
     "output_type": "stream",
     "text": [
      "El tiempo de ejecución del cálculo de la suma del Programa_1_1 es 4821550.00 nanosegundos.\n",
      "Sum: 1783293664\n"
     ]
    }
   ],
   "source": [
    "! ./Programa1_1"
   ]
  },
  {
   "cell_type": "code",
   "execution_count": 109,
   "metadata": {},
   "outputs": [
    {
     "name": "stdout",
     "output_type": "stream",
     "text": [
      "El tiempo de ejecución del cálculo de la suma del Programa_1_2 es 11092664.00 nanosegundos.\n",
      "Sum: 1783293664\n"
     ]
    }
   ],
   "source": [
    "! ./Programa1_2"
   ]
  },
  {
   "attachments": {},
   "cell_type": "markdown",
   "metadata": {},
   "source": [
    "Ejecución 11:"
   ]
  },
  {
   "cell_type": "code",
   "execution_count": 110,
   "metadata": {},
   "outputs": [
    {
     "name": "stdout",
     "output_type": "stream",
     "text": [
      "El tiempo de ejecución del cálculo de la suma del Programa_1_1 es 5326398.00 nanosegundos.\n",
      "Sum: 1783293664\n"
     ]
    }
   ],
   "source": [
    "! ./Programa1_1"
   ]
  },
  {
   "cell_type": "code",
   "execution_count": 111,
   "metadata": {},
   "outputs": [
    {
     "name": "stdout",
     "output_type": "stream",
     "text": [
      "El tiempo de ejecución del cálculo de la suma del Programa_1_2 es 4099767.00 nanosegundos.\n",
      "Sum: 1783293664\n"
     ]
    }
   ],
   "source": [
    "! ./Programa1_2"
   ]
  },
  {
   "attachments": {},
   "cell_type": "markdown",
   "metadata": {},
   "source": [
    "Ejecución 12:"
   ]
  },
  {
   "cell_type": "code",
   "execution_count": 112,
   "metadata": {},
   "outputs": [
    {
     "name": "stdout",
     "output_type": "stream",
     "text": [
      "El tiempo de ejecución del cálculo de la suma del Programa_1_1 es 5282412.00 nanosegundos.\n",
      "Sum: 1783293664\n"
     ]
    }
   ],
   "source": [
    "! ./Programa1_1"
   ]
  },
  {
   "cell_type": "code",
   "execution_count": 113,
   "metadata": {},
   "outputs": [
    {
     "name": "stdout",
     "output_type": "stream",
     "text": [
      "El tiempo de ejecución del cálculo de la suma del Programa_1_2 es 4158749.00 nanosegundos.\n",
      "Sum: 1783293664\n"
     ]
    }
   ],
   "source": [
    "! ./Programa1_2"
   ]
  },
  {
   "attachments": {},
   "cell_type": "markdown",
   "metadata": {},
   "source": [
    "Ejecución 13:"
   ]
  },
  {
   "cell_type": "code",
   "execution_count": 114,
   "metadata": {},
   "outputs": [
    {
     "name": "stdout",
     "output_type": "stream",
     "text": [
      "El tiempo de ejecución del cálculo de la suma del Programa_1_1 es 5664296.00 nanosegundos.\n",
      "Sum: 1783293664\n"
     ]
    }
   ],
   "source": [
    "! ./Programa1_1"
   ]
  },
  {
   "cell_type": "code",
   "execution_count": 115,
   "metadata": {},
   "outputs": [
    {
     "name": "stdout",
     "output_type": "stream",
     "text": [
      "El tiempo de ejecución del cálculo de la suma del Programa_1_2 es 9600113.00 nanosegundos.\n",
      "Sum: 1783293664\n"
     ]
    }
   ],
   "source": [
    "! ./Programa1_2"
   ]
  },
  {
   "attachments": {},
   "cell_type": "markdown",
   "metadata": {},
   "source": [
    "Ejecución 14:"
   ]
  },
  {
   "cell_type": "code",
   "execution_count": 116,
   "metadata": {},
   "outputs": [
    {
     "name": "stdout",
     "output_type": "stream",
     "text": [
      "El tiempo de ejecución del cálculo de la suma del Programa_1_1 es 23728864.00 nanosegundos.\n",
      "Sum: 1783293664\n"
     ]
    }
   ],
   "source": [
    "! ./Programa1_1"
   ]
  },
  {
   "cell_type": "code",
   "execution_count": 117,
   "metadata": {},
   "outputs": [
    {
     "name": "stdout",
     "output_type": "stream",
     "text": [
      "El tiempo de ejecución del cálculo de la suma del Programa_1_2 es 8288507.00 nanosegundos.\n",
      "Sum: 1783293664\n"
     ]
    }
   ],
   "source": [
    "! ./Programa1_2"
   ]
  },
  {
   "attachments": {},
   "cell_type": "markdown",
   "metadata": {},
   "source": [
    "Ejecución 15:"
   ]
  },
  {
   "cell_type": "code",
   "execution_count": 118,
   "metadata": {},
   "outputs": [
    {
     "name": "stdout",
     "output_type": "stream",
     "text": [
      "El tiempo de ejecución del cálculo de la suma del Programa_1_1 es 5177443.00 nanosegundos.\n",
      "Sum: 1783293664\n"
     ]
    }
   ],
   "source": [
    "! ./Programa1_1"
   ]
  },
  {
   "cell_type": "code",
   "execution_count": 119,
   "metadata": {},
   "outputs": [
    {
     "name": "stdout",
     "output_type": "stream",
     "text": [
      "El tiempo de ejecución del cálculo de la suma del Programa_1_2 es 7224827.00 nanosegundos.\n",
      "Sum: 1783293664\n"
     ]
    }
   ],
   "source": [
    "! ./Programa1_2"
   ]
  },
  {
   "attachments": {},
   "cell_type": "markdown",
   "metadata": {},
   "source": [
    "## Parte 3"
   ]
  },
  {
   "attachments": {},
   "cell_type": "markdown",
   "metadata": {},
   "source": [
    "A continuación se adjunta la tabla pedida (generada en Excel):"
   ]
  },
  {
   "attachments": {},
   "cell_type": "markdown",
   "metadata": {},
   "source": [
    "<div>\n",
    "<img src=\"Tabla_Tiempos_Ejecucion_Parte3.png\" width=\"1000\"/>\n",
    "</div>"
   ]
  },
  {
   "attachments": {},
   "cell_type": "markdown",
   "metadata": {},
   "source": [
    "## Partes 4 y 5"
   ]
  },
  {
   "attachments": {},
   "cell_type": "markdown",
   "metadata": {},
   "source": [
    "Recordemos primero el principio de localidad, que indica que el sistema puede usar una pequeña cantidad de memoria de alta velocidad para así reducir el tiempo de lectura/escritura de datos. Principalmente analizaremos dos tipos:\n",
    "- Localidad Temporal: Aquellos elementos a los que se ha accedido recientemente tienden a volver a ser accedidos nuevamente en el futuro cercano\n",
    "- Localidad Espacial: Al accederse a una posición de memoria una vez, es probable que el programa acceda a una ubicación de memoria cercana a dicha dirección en el futuro cercano"
   ]
  },
  {
   "attachments": {},
   "cell_type": "markdown",
   "metadata": {},
   "source": [
    "Empecemos por analizar la localidad en Programa_1_1:"
   ]
  },
  {
   "cell_type": "code",
   "execution_count": null,
   "metadata": {},
   "outputs": [],
   "source": [
    "//Cálculo de la suma en Programa_1_1:\n",
    "for (int i = 0; i < N; i++) {\n",
    "    sum += array[i];\n",
    "}"
   ]
  },
  {
   "attachments": {},
   "cell_type": "markdown",
   "metadata": {},
   "source": [
    "En este caso, se escribe en la variable `sum` una vez en cada iteración; por lo tanto, la función presenta una buena localidad temporal con respecto a `sum`; sin embargo, dado que sum es un escalar, la función carece de una localidad espacial para dicha variable. Por otro lado, se ha creado previamente el vector `array`, y se han inicializado sus elementos con los números consecutivos desde 0 hasta N-1, que son los mismos elementos que buscan sumarse. Por lo tanto, los elementos del vector `array` sirven para realizar la suma, y estos se leen secuencialmente, uno tras otro, en el orden en que se almacenan en la memoria (este no es un arreglo multidimensional así que no debemos preocuparnos realmente por si se accede o no de la misma manera en la que se almacenan). Debido a esto, el arreglo `array` tiene una buena localidad espacial, pero una localidad temporal pobre."
   ]
  },
  {
   "attachments": {},
   "cell_type": "markdown",
   "metadata": {},
   "source": [
    "Analicemos ahora la localidad en Programa_1_2:"
   ]
  },
  {
   "cell_type": "code",
   "execution_count": null,
   "metadata": {},
   "outputs": [],
   "source": [
    "//Cálculo de la suma en Programa_1_2:\n",
    "for (int i = 0; i < N; i++) {\n",
    "    sum += i;\n",
    "  }"
   ]
  },
  {
   "attachments": {},
   "cell_type": "markdown",
   "metadata": {},
   "source": [
    "En este caso, nuevamente se escribe en la variable `sum` una vez en cada iteración; por lo tanto, existe una buena localidad temporar con respecto a esta variable, como en el caso anterior. Sin embargo, se está sumando directamente los índices generados en cada iteración del bucle, y a diferencia de con el programa Programa_1_1, no tenemos en este bucle una variable o arreglo que presente algún tipo de buena localidad espacial, como sí era el caso en el otro programa con el acceso a los elementos de manera secuencial del vector `array`."
   ]
  },
  {
   "attachments": {},
   "cell_type": "markdown",
   "metadata": {},
   "source": [
    "## Parte 6"
   ]
  },
  {
   "cell_type": "code",
   "execution_count": 120,
   "metadata": {},
   "outputs": [
    {
     "name": "stdout",
     "output_type": "stream",
     "text": [
      "LEVEL1_ICACHE_SIZE                 65536\n",
      "LEVEL1_ICACHE_ASSOC                \n",
      "LEVEL1_ICACHE_LINESIZE             64\n",
      "LEVEL1_DCACHE_SIZE                 65536\n",
      "LEVEL1_DCACHE_ASSOC                2\n",
      "LEVEL1_DCACHE_LINESIZE             64\n",
      "LEVEL2_CACHE_SIZE                  524288\n",
      "LEVEL2_CACHE_ASSOC                 16\n",
      "LEVEL2_CACHE_LINESIZE              64\n",
      "LEVEL3_CACHE_SIZE                  16777216\n",
      "LEVEL3_CACHE_ASSOC                 16\n",
      "LEVEL3_CACHE_LINESIZE              64\n",
      "LEVEL4_CACHE_SIZE                  \n",
      "LEVEL4_CACHE_ASSOC                 \n",
      "LEVEL4_CACHE_LINESIZE              \n"
     ]
    }
   ],
   "source": [
    "! getconf -a | grep CACHE"
   ]
  },
  {
   "cell_type": "code",
   "execution_count": 121,
   "metadata": {},
   "outputs": [
    {
     "name": "stdout",
     "output_type": "stream",
     "text": [
      "L1d cache:                       64 KiB (1 instance)\n",
      "L1i cache:                       64 KiB (1 instance)\n",
      "L2 cache:                        512 KiB (1 instance)\n",
      "L3 cache:                        16 MiB (1 instance)\n"
     ]
    }
   ],
   "source": [
    "! lscpu | grep cache"
   ]
  },
  {
   "attachments": {},
   "cell_type": "markdown",
   "metadata": {},
   "source": [
    "Tenemos que: \n",
    "**LEVEL1_DCACHE_LINESIZE             64**\n",
    "\n",
    "**L1d cache:                       64 KiB (1 instance)**\n",
    "\n",
    "Es decir, el tamaño del bloque de la memoria cache es de 64 kibibytes, es decir 64*2^10 Bytes"
   ]
  },
  {
   "attachments": {},
   "cell_type": "markdown",
   "metadata": {},
   "source": [
    "## Parte 7"
   ]
  },
  {
   "attachments": {},
   "cell_type": "markdown",
   "metadata": {},
   "source": [
    "Sabiendo el tamaño del bloque de la memoria cache, así como el stride o step de cada iteración (i.e. cuánto variamos, o el paso con el que variamos, la variable de control en cada iteración), que en el caso del Programa_1_1 es igual a 1 tipo de dato del tipo int, que en C tiene 2 bytes, podemos evaluar la localidad espacial y saber si es que se tendrá un hit o un miss porque sabemos el tamaño del bloque en que se va a guardar cada dato y el tamaño total de la cache, por lo que podremos calcular el hit rate. Por ejemplo, en el caso de Programa_1_1 tenemos que el stride es de 2 byes, y dado que en el bloque tenemos 64 bytes, como cada elemento cabe en un bloque y hay más que suficiente espacio en la cache, el hit rate será de 63/64 (solo hay un miss la primera vez cuando se guarda el dato), incluso si es que (como es el caso) no todo el array de 8MB cabrá en la cache."
   ]
  },
  {
   "attachments": {},
   "cell_type": "markdown",
   "metadata": {},
   "source": [
    "## Parte 8"
   ]
  },
  {
   "attachments": {},
   "cell_type": "markdown",
   "metadata": {},
   "source": [
    "Analicemos primero experimentalmente cuál de las implementaciones es más rápida, mirando tanto la media como la mediana (por si acaso exista outliers) de sus tiempos de ejecución (cálculos realizados con excel):"
   ]
  },
  {
   "attachments": {},
   "cell_type": "markdown",
   "metadata": {},
   "source": [
    "<div>\n",
    "<img src=\"Tabla_Tiempos_Ejecucion_Parte8.png\" width=\"1000\"/>\n",
    "</div>"
   ]
  },
  {
   "attachments": {},
   "cell_type": "markdown",
   "metadata": {},
   "source": [
    "Por lo tanto, experimentalmente vemos que el programa_1_1 es el corre más rápido. Esto es acorde a lo que esperaríamos teóricamente, como se discutió anteriormente, dado que esta implementación posee una excelente localidad espacial y un alto hit rate."
   ]
  },
  {
   "attachments": {},
   "cell_type": "markdown",
   "metadata": {},
   "source": [
    "## Parte 9"
   ]
  },
  {
   "attachments": {},
   "cell_type": "markdown",
   "metadata": {},
   "source": [
    "Afectaría cambiar el tipo de datos si es que el block size no fuese de 64 bytes, pero como ningún tipo de dato excederá esto, no afectará."
   ]
  }
 ],
 "metadata": {
  "kernelspec": {
   "display_name": "Python 3",
   "language": "python",
   "name": "python3"
  },
  "language_info": {
   "codemirror_mode": {
    "name": "ipython",
    "version": 3
   },
   "file_extension": ".py",
   "mimetype": "text/x-python",
   "name": "python",
   "nbconvert_exporter": "python",
   "pygments_lexer": "ipython3",
   "version": "3.10.6"
  },
  "orig_nbformat": 4
 },
 "nbformat": 4,
 "nbformat_minor": 2
}
