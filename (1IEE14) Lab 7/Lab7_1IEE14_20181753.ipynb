{
 "cells": [
  {
   "attachments": {},
   "cell_type": "markdown",
   "metadata": {},
   "source": [
    "# Laboratorio 7 - Arquitectura de Computadoras 23-1\n",
    "\n",
    "Alumno: Estéfano Machado Ferrer (20181753)\n",
    "\n",
    "Fecha: 11-05-2023\n",
    "\n",
    "Curso y Horario: Arquitectura de Computadoras (1IEE14) - Horario de Laboratorio 0621"
   ]
  },
  {
   "attachments": {},
   "cell_type": "markdown",
   "metadata": {},
   "source": [
    "## Enunciado General\n"
   ]
  },
  {
   "attachments": {},
   "cell_type": "markdown",
   "metadata": {},
   "source": [
    "Se le brinda dos códigos en C: programa1_1.c y Programa1_2.c. Ambos generan el cálculo de la transpuesta de una matriz pero se han implementado de diferentes maneras. Considerar que N = 512 puede ser un número muy grande para su sistema. En caso se genere un error de segmento, use el valor de N que funcione con su código.\n",
    "\n",
    "Se le pide lo siguiente:\n"
   ]
  },
  {
   "attachments": {},
   "cell_type": "markdown",
   "metadata": {},
   "source": [
    "## Parte 1\n",
    "\n",
    "1) (1.0 punto) Incluir la medición de tiempo desde C únicamente para el cálculo de la transpuesta. Utilice las unidades que mejor se ajusten al tiempo de ejecución de su PC. No usar más de dos decimales."
   ]
  },
  {
   "attachments": {},
   "cell_type": "markdown",
   "metadata": {},
   "source": [
    "Ahora procederemos a editar ambos programas dados (sobreescribiendo las files) para incluír las mediciones de tiempo requeridas:"
   ]
  },
  {
   "cell_type": "code",
   "execution_count": 25,
   "metadata": {},
   "outputs": [
    {
     "name": "stdout",
     "output_type": "stream",
     "text": [
      "Overwriting programa1_1.c\n"
     ]
    }
   ],
   "source": [
    "%%file programa1_1.c\n",
    "\n",
    "#include <stdio.h>\n",
    "#include <time.h> //Usamos la librería time.h para realizar las mediciones de tiempo de ejecución\n",
    "\n",
    "int main()\n",
    "{\n",
    "    int N = 512;\n",
    "    int matriz[N][N];\n",
    "    int transpuesta[N][N];\n",
    "\n",
    "    //Mediremos el tiempo de ejecución a partir de que se calcula la matriz transpuesta\n",
    "    struct timespec ti, tf; //declaramos las variables en las que mediremos el tiempo de ejecución\n",
    "    double t_elapsed; //declaramos la variable en la que guardaremos el cálculo del tiempo de ejecución\n",
    "\n",
    "\n",
    "    for (int i = 0; i<N; i++){\n",
    "        for(int j = 0; j<N;j++){\n",
    "            matriz[i][j] = i+j*N;\n",
    "        }\n",
    "    }\n",
    "    clock_gettime(CLOCK_REALTIME, &ti); //Inicio de la medición tiempo de ejecución\n",
    "\n",
    "    for (int i = 0; i<N; i++){\n",
    "        for(int j = 0; j<N;j++){\n",
    "            transpuesta[i][j] = matriz[j][i];\n",
    "        }\n",
    "    }\n",
    "    clock_gettime(CLOCK_REALTIME, &tf); //Fin de la medición tiempo de ejecución\n",
    "\n",
    "    //Calculamos el tiempo de ejecución y lo imprimimos en el terminal\n",
    "    t_elapsed = (tf.tv_sec - ti.tv_sec) * 1e9 + (tf.tv_nsec - ti.tv_nsec);\n",
    "    printf(\"El tiempo de ejecución del cálculo de la transpuesta de la matriz generada realizado por el programa1_1.c es %.2f nanosegundos.\\n\", t_elapsed);\n",
    "\n",
    "    return 0;\n",
    "}"
   ]
  },
  {
   "cell_type": "code",
   "execution_count": 26,
   "metadata": {},
   "outputs": [
    {
     "name": "stdout",
     "output_type": "stream",
     "text": [
      "Overwriting programa1_2.c\n"
     ]
    }
   ],
   "source": [
    "%%file programa1_2.c\n",
    "\n",
    "#include <stdio.h>\n",
    "#include <time.h> //Usamos la librería time.h para realizar las mediciones de tiempo de ejecución\n",
    "\n",
    "int main()\n",
    "{\n",
    "    int N = 512;\n",
    "    int matriz[N][N];\n",
    "    int transpuesta[N][N];\n",
    "\n",
    "    //Mediremos el tiempo de ejecución a partir de que se calcula la matriz transpuesta\n",
    "    struct timespec ti, tf; //declaramos las variables en las que mediremos el tiempo de ejecución\n",
    "    double t_elapsed; //declaramos la variable en la que guardaremos el cálculo del tiempo de ejecución\n",
    "\n",
    "    for (int i = 0; i<N; i++){\n",
    "        for(int j = 0; j<N;j++){\n",
    "            matriz[i][j] = i+j*N;\n",
    "        }\n",
    "    }\n",
    "    \n",
    "    clock_gettime(CLOCK_REALTIME, &ti); //Inicio de la medición tiempo de ejecución\n",
    "\n",
    "    for (int i = 0; i<N; i++){\n",
    "        for(int j = 0; j<N;j++){\n",
    "            transpuesta[j][i] = matriz[i][j];\n",
    "        }\n",
    "    }\n",
    "\n",
    "    clock_gettime(CLOCK_REALTIME, &tf); //Fin de la medición tiempo de ejecución\n",
    "\n",
    "    //Calculamos el tiempo de ejecución y lo imprimimos en el terminal\n",
    "    t_elapsed = (tf.tv_sec - ti.tv_sec) * 1e9 + (tf.tv_nsec - ti.tv_nsec);\n",
    "    printf(\"El tiempo de ejecución del cálculo de la transpuesta de la matriz generada realizado por el programa1_2.c es %.2f nanosegundos.\\n\", t_elapsed);\n",
    "\n",
    "    return 0;\n",
    "}"
   ]
  },
  {
   "attachments": {},
   "cell_type": "markdown",
   "metadata": {},
   "source": [
    "Procedemos a compilar y generar ejecutables para ambos programas dados:"
   ]
  },
  {
   "cell_type": "code",
   "execution_count": 27,
   "metadata": {},
   "outputs": [],
   "source": [
    "! gcc programa1_1.c -o programa1_1 & ! gcc programa1_2.c -o programa1_2"
   ]
  },
  {
   "attachments": {},
   "cell_type": "markdown",
   "metadata": {},
   "source": [
    "Ahora procedemos a realizar la ejecución de ambos programas una vez para comprobar su correcto funcionamiento"
   ]
  },
  {
   "cell_type": "code",
   "execution_count": 28,
   "metadata": {},
   "outputs": [
    {
     "name": "stdout",
     "output_type": "stream",
     "text": [
      "El tiempo de ejecución del cálculo de la transpuesta de la matriz generada realizado por el programa1_1.c es 2854113.00 nanosegundos.\n"
     ]
    }
   ],
   "source": [
    "! ./programa1_1"
   ]
  },
  {
   "cell_type": "code",
   "execution_count": 29,
   "metadata": {},
   "outputs": [
    {
     "name": "stdout",
     "output_type": "stream",
     "text": [
      "El tiempo de ejecución del cálculo de la transpuesta de la matriz generada realizado por el programa1_2.c es 2991077.00 nanosegundos.\n"
     ]
    }
   ],
   "source": [
    "! ./programa1_2"
   ]
  },
  {
   "attachments": {},
   "cell_type": "markdown",
   "metadata": {},
   "source": [
    "## Parte 2\n",
    "\n",
    "2) (1.0 punto) Realizar 15 ejecuciones desde el terminal para ambos archivos ejecutables. Realizar una captura de pantalla de su ejecución. Los tiempos en su imagen deben ser visibles. Para ello, se sugiere escribir un código en bash que realice el llamado 15 veces al programa ejecutable (Ver guía de introducción al entorno). El código en bash es opcional."
   ]
  },
  {
   "attachments": {},
   "cell_type": "markdown",
   "metadata": {},
   "source": [
    "Realizaremos un código de un for loop en bash para realizar las 15 ejecuciones deseadas:"
   ]
  },
  {
   "attachments": {},
   "cell_type": "markdown",
   "metadata": {},
   "source": [
    "Buscamos el directorio donde està el intérprete de bash de mi máquina virtual para utilizar #shebang correctamente"
   ]
  },
  {
   "cell_type": "code",
   "execution_count": 30,
   "metadata": {},
   "outputs": [
    {
     "name": "stdout",
     "output_type": "stream",
     "text": [
      "/usr/bin/bash\n"
     ]
    }
   ],
   "source": [
    "! which bash"
   ]
  },
  {
   "attachments": {},
   "cell_type": "markdown",
   "metadata": {},
   "source": [
    "Procedemos a crear ahora el archivo del código en bash que necesitaremos:"
   ]
  },
  {
   "cell_type": "code",
   "execution_count": 31,
   "metadata": {},
   "outputs": [
    {
     "name": "stdout",
     "output_type": "stream",
     "text": [
      "Writing parte2_15iteraciones.sh\n"
     ]
    }
   ],
   "source": [
    "%%file parte2_15iteraciones.sh\n",
    "#!/bin/bash\n",
    "\n",
    "#Ciclo iterativo que realize 15 ejecuciones de ambos programas:\n",
    "\n",
    "for ((i=1; i<=15; i++))\n",
    "do\n",
    "    echo \"Ejecución $i:\"\n",
    "    ./programa1_1\n",
    "    ./programa1_2\n",
    "done"
   ]
  },
  {
   "cell_type": "code",
   "execution_count": 32,
   "metadata": {},
   "outputs": [],
   "source": [
    "! chmod 777 ./parte2_15iteraciones.sh #nos aseguramos de que sea ejecutable dándole permisos de read/write and execute"
   ]
  },
  {
   "cell_type": "code",
   "execution_count": 33,
   "metadata": {},
   "outputs": [
    {
     "name": "stdout",
     "output_type": "stream",
     "text": [
      "Ejecución 1:\n",
      "El tiempo de ejecución del cálculo de la transpuesta de la matriz generada realizado por el programa1_1.c es 10620771.00 nanosegundos.\n",
      "El tiempo de ejecución del cálculo de la transpuesta de la matriz generada realizado por el programa1_2.c es 2607208.00 nanosegundos.\n",
      "Ejecución 2:\n",
      "El tiempo de ejecución del cálculo de la transpuesta de la matriz generada realizado por el programa1_1.c es 26530934.00 nanosegundos.\n",
      "El tiempo de ejecución del cálculo de la transpuesta de la matriz generada realizado por el programa1_2.c es 15090412.00 nanosegundos.\n",
      "Ejecución 3:\n",
      "El tiempo de ejecución del cálculo de la transpuesta de la matriz generada realizado por el programa1_1.c es 6758945.00 nanosegundos.\n",
      "El tiempo de ejecución del cálculo de la transpuesta de la matriz generada realizado por el programa1_2.c es 11303564.00 nanosegundos.\n",
      "Ejecución 4:\n",
      "El tiempo de ejecución del cálculo de la transpuesta de la matriz generada realizado por el programa1_1.c es 8617380.00 nanosegundos.\n",
      "El tiempo de ejecución del cálculo de la transpuesta de la matriz generada realizado por el programa1_2.c es 16400014.00 nanosegundos.\n",
      "Ejecución 5:\n",
      "El tiempo de ejecución del cálculo de la transpuesta de la matriz generada realizado por el programa1_1.c es 2686183.00 nanosegundos.\n",
      "El tiempo de ejecución del cálculo de la transpuesta de la matriz generada realizado por el programa1_2.c es 10005958.00 nanosegundos.\n",
      "Ejecución 6:\n",
      "El tiempo de ejecución del cálculo de la transpuesta de la matriz generada realizado por el programa1_1.c es 11160607.00 nanosegundos.\n",
      "El tiempo de ejecución del cálculo de la transpuesta de la matriz generada realizado por el programa1_2.c es 2922112.00 nanosegundos.\n",
      "Ejecución 7:\n",
      "El tiempo de ejecución del cálculo de la transpuesta de la matriz generada realizado por el programa1_1.c es 4073770.00 nanosegundos.\n",
      "El tiempo de ejecución del cálculo de la transpuesta de la matriz generada realizado por el programa1_2.c es 2550230.00 nanosegundos.\n",
      "Ejecución 8:\n",
      "El tiempo de ejecución del cálculo de la transpuesta de la matriz generada realizado por el programa1_1.c es 7763657.00 nanosegundos.\n",
      "El tiempo de ejecución del cálculo de la transpuesta de la matriz generada realizado por el programa1_2.c es 2720179.00 nanosegundos.\n",
      "Ejecución 9:\n",
      "El tiempo de ejecución del cálculo de la transpuesta de la matriz generada realizado por el programa1_1.c es 3708881.00 nanosegundos.\n",
      "El tiempo de ejecución del cálculo de la transpuesta de la matriz generada realizado por el programa1_2.c es 8580410.00 nanosegundos.\n",
      "Ejecución 10:\n",
      "El tiempo de ejecución del cálculo de la transpuesta de la matriz generada realizado por el programa1_1.c es 3955806.00 nanosegundos.\n",
      "El tiempo de ejecución del cálculo de la transpuesta de la matriz generada realizado por el programa1_2.c es 12829127.00 nanosegundos.\n",
      "Ejecución 11:\n",
      "El tiempo de ejecución del cálculo de la transpuesta de la matriz generada realizado por el programa1_1.c es 17884601.00 nanosegundos.\n",
      "El tiempo de ejecución del cálculo de la transpuesta de la matriz generada realizado por el programa1_2.c es 2948110.00 nanosegundos.\n",
      "Ejecución 12:\n",
      "El tiempo de ejecución del cálculo de la transpuesta de la matriz generada realizado por el programa1_1.c es 16212106.00 nanosegundos.\n",
      "El tiempo de ejecución del cálculo de la transpuesta de la matriz generada realizado por el programa1_2.c es 13092049.00 nanosegundos.\n",
      "Ejecución 13:\n",
      "El tiempo de ejecución del cálculo de la transpuesta de la matriz generada realizado por el programa1_1.c es 7780652.00 nanosegundos.\n",
      "El tiempo de ejecución del cálculo de la transpuesta de la matriz generada realizado por el programa1_2.c es 2992097.00 nanosegundos.\n",
      "Ejecución 14:\n",
      "El tiempo de ejecución del cálculo de la transpuesta de la matriz generada realizado por el programa1_1.c es 11411556.00 nanosegundos.\n",
      "El tiempo de ejecución del cálculo de la transpuesta de la matriz generada realizado por el programa1_2.c es 7831652.00 nanosegundos.\n",
      "Ejecución 15:\n",
      "El tiempo de ejecución del cálculo de la transpuesta de la matriz generada realizado por el programa1_1.c es 21407584.00 nanosegundos.\n",
      "El tiempo de ejecución del cálculo de la transpuesta de la matriz generada realizado por el programa1_2.c es 5616317.00 nanosegundos.\n"
     ]
    }
   ],
   "source": [
    "! ./parte2_15iteraciones.sh #ejecutamos el script"
   ]
  },
  {
   "attachments": {},
   "cell_type": "markdown",
   "metadata": {},
   "source": [
    "## Parte 3\n",
    "\n",
    "3) (1.0 punto) Adjuntar una tabla con todas las mediciones. Enfatizar el tiempo mínimo, máximo y la mediana."
   ]
  },
  {
   "attachments": {},
   "cell_type": "markdown",
   "metadata": {},
   "source": [
    "A continuación se adjunta la tabla pedida (generada en Excel, se adjunta también el .xlsx en el comprimido en Paideia):"
   ]
  },
  {
   "attachments": {},
   "cell_type": "markdown",
   "metadata": {},
   "source": [
    "<div>\n",
    "<img src=\"Imagen_Tabla_Tiempos_Ejecucion.png\" width=\"1000\"/>\n",
    "</div>"
   ]
  },
  {
   "attachments": {},
   "cell_type": "markdown",
   "metadata": {},
   "source": [
    "## Parte 4\n",
    "\n",
    "4) (1.0 punto) Explicar cómo se relaciona el programa1_1.c con los conceptos de localidad temporal y localidad espacial."
   ]
  },
  {
   "attachments": {},
   "cell_type": "markdown",
   "metadata": {},
   "source": [
    "Primero analizaremos la localidad temporal y la localidad espacial respecto a la inicialización/generación de la matriz `matriz`, la cual se popula de elementos accediendo primero a llenar cada fila, y pues de esta manera se guarda en las direcciones de la memoria caché (arreglo lineal), en forma row-major:\n",
    "\n",
    "La localidad temporal se refiere a la tendencia de los programas a acceder a los mismos datos en un corto periodo de tiempo.\n",
    "En el caso del programa `programa1_1.c`, se puede observar que el acceso a los datos de la matriz `matriz` es constante, ya que\n",
    "se accede a los mismos datos en cada iteración del ciclo for. Por lo tanto, se puede decir que el programa tiene una buena localidad\n",
    "temporal, ya que accede a los mismos datos en un corto periodo de tiempo.\n",
    "\n",
    "La localidad espacial se refiere a la tendencia de los programas a acceder a datos cercanos en memoria. Respecto a Dado que, como se mencionó anteriormente, en `programa1_1.c` el acceso a los datos de la matriz `matriz` es constante en cada iteración del ciclo for y a, podemos se puede decir que el programa tiene una buena localidad espacial, ya que accede a\n",
    "datos cercanos en memoria.\n",
    "\n",
    "Ahora analicemos respecto al cálculo de la transpuesta:\n",
    "\n",
    "Tenemos nuevamente buena localidad temporal, al acceder en cada ciclo iterativo a la matriz `matriz`, pero la localidad espacial es pobre, dado que se está accediendo a la matriz `matriz` de manera columna a columna (col-major), cuando esta está guardada en memoria de manera fila a fila (row-major). Por lo tanto, tendremos que no se accederán a datos cercanos, y por lo tanto no gozaremos de buena localidad espacial"
   ]
  },
  {
   "attachments": {},
   "cell_type": "markdown",
   "metadata": {},
   "source": [
    "## Parte 5\n",
    "\n",
    "5) (1.0 punto) Explicar cómo se relaciona el programa1_2.c con los conceptos de localidad temporal y localidad espacial."
   ]
  },
  {
   "attachments": {},
   "cell_type": "markdown",
   "metadata": {},
   "source": [
    "El análisis de localidad temporal y localidad espacial respecto a la inicialización/generación de la matriz `matriz` es idéntico al caso del programa `programa1_1.c`, ya que se genera de la misma manera dicha matriz (en manera row-major). Sin embargo, al analizar la localidad espacial del acceso a la matriz `matriz` cuando se tiene que se accede a esta de manera row-major, tenemos que esta implementación debe tener excelente localidad espacial, debido a que se está accediendo a datos en memoria que son guardados de manera cercana al accederse a todos los elementos fila a fila, tal cual se  ha generado la matriz original."
   ]
  },
  {
   "attachments": {},
   "cell_type": "markdown",
   "metadata": {},
   "source": [
    "## Parte 6\n",
    "\n",
    "6) (3.0 punto) Sabiendo que la matriz se ha inicializado por filas (row-major), ¿qué pasaría si se inicializa la matriz por columnas (col-major) y se ajusta la función de transpuesta a columnas?Justificar apropiadamente sus respuestas."
   ]
  },
  {
   "attachments": {},
   "cell_type": "markdown",
   "metadata": {},
   "source": [
    "Como se ha discutido anteriormente, el acceso a la matriz `matriz` por filas o columnas determina la localidad espacial de la implementación, por lo que si se inicializa de manera col-major, tendríamos que la implementación del programa `programa1_1` estaría accediendo a estos elementos tal como están guardados en memoria, lo cual haría que esta sea más eficiente y no la de `programa1_2`."
   ]
  },
  {
   "attachments": {},
   "cell_type": "markdown",
   "metadata": {},
   "source": [
    "## Parte 7\n",
    "\n",
    "7) (0.0 puntos) Utilizar el comando getconf -a | grep CACHE en el terminal y verificar el tamaño de bloque de su computador. Recordar que el tamaño de bloque en el nivel 1 se ve en la línea LEVEL1_DCACHE_LINESIZE (en bytes). Adjuntar captura de pantalla. (-1.0 si no lo realiza)"
   ]
  },
  {
   "cell_type": "code",
   "execution_count": 34,
   "metadata": {},
   "outputs": [
    {
     "name": "stdout",
     "output_type": "stream",
     "text": [
      "LEVEL1_ICACHE_SIZE                 65536\n",
      "LEVEL1_ICACHE_ASSOC                \n",
      "LEVEL1_ICACHE_LINESIZE             64\n",
      "LEVEL1_DCACHE_SIZE                 65536\n",
      "LEVEL1_DCACHE_ASSOC                2\n",
      "LEVEL1_DCACHE_LINESIZE             64\n",
      "LEVEL2_CACHE_SIZE                  524288\n",
      "LEVEL2_CACHE_ASSOC                 16\n",
      "LEVEL2_CACHE_LINESIZE              64\n",
      "LEVEL3_CACHE_SIZE                  16777216\n",
      "LEVEL3_CACHE_ASSOC                 16\n",
      "LEVEL3_CACHE_LINESIZE              64\n",
      "LEVEL4_CACHE_SIZE                  \n",
      "LEVEL4_CACHE_ASSOC                 \n",
      "LEVEL4_CACHE_LINESIZE              \n"
     ]
    }
   ],
   "source": [
    "! getconf -a | grep CACHE"
   ]
  },
  {
   "cell_type": "code",
   "execution_count": 35,
   "metadata": {},
   "outputs": [
    {
     "name": "stdout",
     "output_type": "stream",
     "text": [
      "L1d cache:                       64 KiB (1 instance)\n",
      "L1i cache:                       64 KiB (1 instance)\n",
      "L2 cache:                        512 KiB (1 instance)\n",
      "L3 cache:                        16 MiB (1 instance)\n"
     ]
    }
   ],
   "source": [
    "# También para tener más contexto utilizaremos el siguiente comando que nos permite ver la información del\n",
    "# tamaño de la caché de nuestra computadora\n",
    "\n",
    "! lscpu | grep cache"
   ]
  },
  {
   "attachments": {},
   "cell_type": "markdown",
   "metadata": {},
   "source": [
    "## Parte 8\n",
    "\n",
    "8) (4.0 puntos) Basándose en todas las respuestas de los incisos anteriores, ¿qué implementación genera mejores tiempos de ejecución? Justificar su respuesta y responder si es que las implementaciones representan realmente una diferencia significativa."
   ]
  },
  {
   "attachments": {},
   "cell_type": "markdown",
   "metadata": {},
   "source": [
    "Teóricamente, como se ha venido discutiendo, esperaríamos que la implementación que genere mejores tiempos de ejecución sea la de `programa1_2`, dado a que tiene mejor localidad espacial al acceder a cada elemento de la matriz `matriz` de la misma manera como estos están guardados en la caché, es decir en forma row-major."
   ]
  },
  {
   "attachments": {},
   "cell_type": "markdown",
   "metadata": {},
   "source": [
    "Experimentalmente, la implementación del `programa1_2` genera mejores (menores) tiempos de ejecución. Para justificar esto, realizaremos una gráfica del Tiempo de Ejecución vs Iteración (utilizando un filtro mediana para suavizar la tendencia de los mismos) para analizar la tendencia general de los tiempos de ejecución de ambos programas"
   ]
  },
  {
   "cell_type": "code",
   "execution_count": 38,
   "metadata": {},
   "outputs": [
    {
     "data": {
      "image/png": "[encoded data removed]",
      "text/plain": [
       "<Figure size 1000x500 with 1 Axes>"
      ]
     },
     "metadata": {},
     "output_type": "display_data"
    }
   ],
   "source": [
    "import matplotlib.pyplot as plt\n",
    "import numpy as np\n",
    "import statistics\n",
    "\n",
    "num_iteraciones = 15\n",
    "array_iteraciones = range(num_iteraciones)\n",
    "\n",
    "\n",
    "def filtro_mediana(sign, ventana):\n",
    "    #Filtro mediana para suavizar la tendencia del arreglo y descartar outliers\n",
    "    signc = []\n",
    "    tam = len(sign)\n",
    "    offs = int((ventana-1)/2)\n",
    "    for i in range(tam):\n",
    "        inicio = i - offs if (i - offs > 0) else i\n",
    "        fin = i + offs if (i + offs < tam) else tam\n",
    "        signc.append(statistics.median(sign[inicio:fin]))\n",
    "    return signc\n",
    "\n",
    "#Definimos listas con los tiempos de ejecución obtenidos\n",
    "t_programa1_1 = [10620771.00,26530934.00,6758945.00,8617380.00,2686183.00,\\\n",
    "                11160607.00,4073770.00,7763657.00,3708881.00,3955806.00,\\\n",
    "                17884601.00,16212106.00,7780652.00,11411556.00,21407584.00]\n",
    "t_programa1_2 = [2607208.00,15090412.00,11303564.00,16400014.00,10005958.00,\\\n",
    "                2922112.00,2550230.00,2720179.00,8580410.00,12829127.00,\\\n",
    "                2948110.00,13092049.00,2992097.00,7831652.00,5616317.00]\n",
    "\n",
    "#Aplicamos el filtro de mediana a los tiempos de ejecución\n",
    "t_programa1_1 = filtro_mediana(t_programa1_1, 3)\n",
    "t_programa1_2 = filtro_mediana(t_programa1_2, 3)\n",
    "\n",
    "#También plotearemos la mediana de los tiempos de ejecución para tener una mejor idea de la tendencia\n",
    "t_programa1_1_mediana = [statistics.median(t_programa1_1)]*num_iteraciones\n",
    "t_programa1_2_mediana = [statistics.median(t_programa1_2)]*num_iteraciones\n",
    "\n",
    "\n",
    "#Ahora mostraremos las gráficas de tiempo de ejecución vs iteración para ambos programas, así como la mediana de los mismos\n",
    "plt.figure(figsize=(10,5))\n",
    "plt.plot(array_iteraciones, t_programa1_1, label='Programa 1.1')\n",
    "plt.plot(array_iteraciones, t_programa1_2, label='Programa 1.2')\n",
    "plt.plot(array_iteraciones, t_programa1_1_mediana, label='Mediana Programa 1.1')\n",
    "plt.plot(array_iteraciones, t_programa1_2_mediana, label='Mediana Programa 1.2')\n",
    "plt.xlabel('Iteración')\n",
    "plt.ylabel('Tiempo de ejecución (ns)')\n",
    "plt.title('Tiempo de ejecución vs iteración')\n",
    "plt.legend()\n",
    "plt.tight_layout()\n",
    "plt.grid()\n",
    "plt.show()\n"
   ]
  },
  {
   "attachments": {},
   "cell_type": "markdown",
   "metadata": {},
   "source": [
    "Como podemos observar, experimentalmente tenemos que la implementación de `programa1_2` es la que genera mejores tiempos de ejecución. Veamos ahora cuán significativa es esta diferencia realizando un cálculo de porcentaje de mejora respecto a la mediana de ambos arreglos de tiempos de ejecución:"
   ]
  },
  {
   "cell_type": "code",
   "execution_count": 51,
   "metadata": {},
   "outputs": [
    {
     "name": "stdout",
     "output_type": "stream",
     "text": [
      "La mejora en tiempos de ejecución del programa1_2 respecto al programa1_1 es de 17.8 %\n"
     ]
    }
   ],
   "source": [
    "mejora = 100-t_programa1_2_mediana[0]/t_programa1_1_mediana[0]*100\n",
    "print(f\"La mejora en tiempos de ejecución del programa1_2 respecto al programa1_1 es de {mejora:.3} %\")"
   ]
  },
  {
   "attachments": {},
   "cell_type": "markdown",
   "metadata": {},
   "source": [
    "La diferencia no es tan significativa en este caso, pero definitivamente podría volverse significativa si es que aumentamos el tamaño de la matriz y trabajamos con más elementos, o si se disminuyera el tamaño del bloque de la caché y esto hiciera que tuviésemos que usar más de un bloque para guardar un dato, alejando más a los datos distintos, y haciendo que acceder de manera distinta a como estos están guardados tarde más."
   ]
  },
  {
   "attachments": {},
   "cell_type": "markdown",
   "metadata": {},
   "source": [
    "## Parte 9\n",
    "\n",
    "9) (3.0 puntos) ¿Cómo influye el tipo de datos del arreglo en este ejercicio? Esperaría resultados similares para un tipo char, short, long? Comentar acerca de su respuesta."
   ]
  },
  {
   "attachments": {},
   "cell_type": "markdown",
   "metadata": {},
   "source": [
    "El tipo de dato usado para cada elemento de las matrices con las que se opera en ambos programas es `int`, el cual es un tipo de dato de 4 bytes (para C en 64 bits). El hecho de que el tamaño del bloque en en nivel 1 de la cache, como se vio en la parte 7, es de 64 bytes, quiere decir que siempre tendremos suficiente espacio para guardar un dato en un bloque de la cache (más las respectivas etiquetas u offsets asociados al tipo de mapeo que se esté realizando), pues este solo ocupa 4 bytes, y por lo tanto, tendremos que podremos gozar de una buena localidad espacial al guardar en la caché (analizando desde el punto de vista simplemente del tipo de dato y no del acceso a cada dato en el código, análisis que ya realizamos previamente al discutir el acceso por row-major o col-major). Esto lo podemos ver tangiblemente al pensar en el hit rate, el cual será de 63/64 (solo hay un miss la primera vez cuando se guarda el dato), incluso si es que (como es el caso) no todo el array de 1MiB = 1 048 576 bytes cabrá en la cache.\n",
    "\n",
    "El tipo de dato `char` tiene un tamaño de 1 byte, `short` tiene un tamaño de 2 bytes y `long` tiene un tamaño de 4 bytes. Al ser estos tres tipos de datos de menor (`char` y `short`) o igual (`long`) tamaño que el tipo de dato `int`, tenemos que estos nos deberían dar resultados similares a los dados por `int`."
   ]
  }
 ],
 "metadata": {
  "kernelspec": {
   "display_name": "Python 3",
   "language": "python",
   "name": "python3"
  },
  "language_info": {
   "codemirror_mode": {
    "name": "ipython",
    "version": 3
   },
   "file_extension": ".py",
   "mimetype": "text/x-python",
   "name": "python",
   "nbconvert_exporter": "python",
   "pygments_lexer": "ipython3",
   "version": "3.10.6"
  },
  "orig_nbformat": 4
 },
 "nbformat": 4,
 "nbformat_minor": 2
}
