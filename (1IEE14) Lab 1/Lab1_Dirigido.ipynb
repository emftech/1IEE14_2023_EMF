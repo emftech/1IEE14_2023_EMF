{
 "cells": [
  {
   "attachments": {},
   "cell_type": "markdown",
   "metadata": {},
   "source": [
    "# Laboratorio 1 - Parte Dirigida - Arquitectura de Computadoras 23-1\n",
    "Student: Estéfano Machado\n",
    "\n",
    "Date: 23-03-2023"
   ]
  },
  {
   "cell_type": "code",
   "execution_count": 25,
   "metadata": {},
   "outputs": [
    {
     "name": "stdout",
     "output_type": "stream",
     "text": [
      "Ejemplos_Guia_L1  HomeworK_Guide_L1  Lab1_Dirigido.ipynb\n"
     ]
    }
   ],
   "source": [
    "! ls"
   ]
  },
  {
   "cell_type": "code",
   "execution_count": 26,
   "metadata": {},
   "outputs": [],
   "source": [
    "! mkdir arqui"
   ]
  },
  {
   "cell_type": "code",
   "execution_count": 27,
   "metadata": {},
   "outputs": [
    {
     "name": "stdout",
     "output_type": "stream",
     "text": [
      "arqui  Ejemplos_Guia_L1  HomeworK_Guide_L1  Lab1_Dirigido.ipynb\n"
     ]
    }
   ],
   "source": [
    "! ls"
   ]
  },
  {
   "cell_type": "code",
   "execution_count": 28,
   "metadata": {},
   "outputs": [
    {
     "name": "stdout",
     "output_type": "stream",
     "text": [
      "/home/emf_ubuntu/1IEE14_EMF_23_1/Lab_1/arqui\n",
      "/home/emf_ubuntu\n"
     ]
    }
   ],
   "source": [
    "%%sh\n",
    "cd arqui\n",
    "pwd\n",
    "cd\n",
    "pwd"
   ]
  },
  {
   "cell_type": "code",
   "execution_count": 29,
   "metadata": {},
   "outputs": [
    {
     "name": "stdout",
     "output_type": "stream",
     "text": [
      "Writing hola_mundo.py\n"
     ]
    }
   ],
   "source": [
    "%%file hola_mundo.py\n",
    "\n",
    "print(\"Hola Estefano\")\n"
   ]
  },
  {
   "cell_type": "code",
   "execution_count": 30,
   "metadata": {},
   "outputs": [
    {
     "name": "stdout",
     "output_type": "stream",
     "text": [
      "Hola Estefano\n"
     ]
    }
   ],
   "source": [
    "! python3 hola_mundo.py"
   ]
  },
  {
   "cell_type": "code",
   "execution_count": 31,
   "metadata": {},
   "outputs": [
    {
     "name": "stdout",
     "output_type": "stream",
     "text": [
      "Writing hola_mundo.c\n"
     ]
    }
   ],
   "source": [
    "%%file hola_mundo.c\n",
    "\n",
    "#include <stdio.h>\n",
    "\n",
    "int main(int argc, char *argv[]){\n",
    "    printf(\"Hola mundo\\r\\nTest\\r\\n\");\n",
    "    return 0;\n",
    "}"
   ]
  },
  {
   "cell_type": "code",
   "execution_count": 32,
   "metadata": {},
   "outputs": [],
   "source": [
    "! gcc hola_mundo.c -o hola_mundo"
   ]
  },
  {
   "cell_type": "code",
   "execution_count": 33,
   "metadata": {},
   "outputs": [
    {
     "name": "stdout",
     "output_type": "stream",
     "text": [
      "Hola mundo\n",
      "Test\n"
     ]
    }
   ],
   "source": [
    "! ./hola_mundo"
   ]
  },
  {
   "cell_type": "code",
   "execution_count": 34,
   "metadata": {},
   "outputs": [
    {
     "name": "stdout",
     "output_type": "stream",
     "text": [
      "/bin/bash\n"
     ]
    }
   ],
   "source": [
    "! which bash"
   ]
  },
  {
   "attachments": {},
   "cell_type": "markdown",
   "metadata": {},
   "source": [
    "Esta celda me permite ver en qué directorio de mi máquina virtual se encuentra el intérprete en bash"
   ]
  },
  {
   "cell_type": "code",
   "execution_count": 35,
   "metadata": {},
   "outputs": [
    {
     "name": "stdout",
     "output_type": "stream",
     "text": [
      "Writing hola_mundo.sh\n"
     ]
    }
   ],
   "source": [
    "%%file hola_mundo.sh\n",
    "\n",
    "#!/bin/bash\n",
    "\n",
    "#shebang -> This sequence of characters (#!) \n",
    "# is called shebang and is used to tell the operating system which \n",
    "# interpreter to use to parse the rest of the file.\n",
    "\n",
    "echo \"Hola Mundo\"\n"
   ]
  },
  {
   "cell_type": "code",
   "execution_count": 36,
   "metadata": {},
   "outputs": [
    {
     "name": "stdout",
     "output_type": "stream",
     "text": [
      "total 52\n",
      "drwxrwxr-x 2 emf_ubuntu emf_ubuntu  4096 Mar 24 01:37 arqui\n",
      "drwxrwxr-x 2 emf_ubuntu emf_ubuntu  4096 Mar 23 23:18 Ejemplos_Guia_L1\n",
      "-rwxrwxr-x 1 emf_ubuntu emf_ubuntu 15968 Mar 24 01:37 hola_mundo\n",
      "-rw-rw-r-- 1 emf_ubuntu emf_ubuntu   109 Mar 24 01:37 hola_mundo.c\n",
      "-rw-rw-r-- 1 emf_ubuntu emf_ubuntu    24 Mar 24 01:37 hola_mundo.py\n",
      "-rw-rw-r-- 1 emf_ubuntu emf_ubuntu   199 Mar 24 01:37 hola_mundo.sh\n",
      "drwxrwxr-x 2 emf_ubuntu emf_ubuntu  4096 Mar 23 23:42 HomeworK_Guide_L1\n",
      "-rw-rw-r-- 1 emf_ubuntu emf_ubuntu 10789 Mar 24 01:35 Lab1_Dirigido.ipynb\n"
     ]
    }
   ],
   "source": [
    "! ls -l"
   ]
  },
  {
   "attachments": {},
   "cell_type": "markdown",
   "metadata": {},
   "source": [
    "Sobre los permisos:\n",
    "* El primer caracter hacer referencia a si se trata o no de un directorio\n",
    "* Los demás caracteres hacen referencia a los permisos de cada file"
   ]
  },
  {
   "attachments": {},
   "cell_type": "markdown",
   "metadata": {},
   "source": [
    "<div>\n",
    "<img src=\"Class_Notes_L1_1.jpeg\" width=\"500\"/>\n",
    "</div>"
   ]
  },
  {
   "attachments": {},
   "cell_type": "markdown",
   "metadata": {},
   "source": [
    "Modifiquemos ahora los permisos del ejecutable hola_mundo:"
   ]
  },
  {
   "cell_type": "code",
   "execution_count": 37,
   "metadata": {},
   "outputs": [],
   "source": [
    "! chmod 655 hola_mundo"
   ]
  },
  {
   "cell_type": "code",
   "execution_count": 38,
   "metadata": {},
   "outputs": [
    {
     "name": "stdout",
     "output_type": "stream",
     "text": [
      "total 52\n",
      "drwxrwxr-x 2 emf_ubuntu emf_ubuntu  4096 Mar 24 01:37 arqui\n",
      "drwxrwxr-x 2 emf_ubuntu emf_ubuntu  4096 Mar 23 23:18 Ejemplos_Guia_L1\n",
      "-rw-r-xr-x 1 emf_ubuntu emf_ubuntu 15968 Mar 24 01:37 hola_mundo\n",
      "-rw-rw-r-- 1 emf_ubuntu emf_ubuntu   109 Mar 24 01:37 hola_mundo.c\n",
      "-rw-rw-r-- 1 emf_ubuntu emf_ubuntu    24 Mar 24 01:37 hola_mundo.py\n",
      "-rw-rw-r-- 1 emf_ubuntu emf_ubuntu   199 Mar 24 01:37 hola_mundo.sh\n",
      "drwxrwxr-x 2 emf_ubuntu emf_ubuntu  4096 Mar 23 23:42 HomeworK_Guide_L1\n",
      "-rw-rw-r-- 1 emf_ubuntu emf_ubuntu 10789 Mar 24 01:35 Lab1_Dirigido.ipynb\n"
     ]
    }
   ],
   "source": [
    "! ls -l"
   ]
  },
  {
   "cell_type": "code",
   "execution_count": 39,
   "metadata": {},
   "outputs": [
    {
     "name": "stdout",
     "output_type": "stream",
     "text": [
      "/bin/bash: line 1: ./hola_mundo: Permission denied\n"
     ]
    }
   ],
   "source": [
    "! ./hola_mundo"
   ]
  },
  {
   "cell_type": "code",
   "execution_count": 40,
   "metadata": {},
   "outputs": [
    {
     "name": "stdout",
     "output_type": "stream",
     "text": [
      "Writing calcula_final.py\n"
     ]
    }
   ],
   "source": [
    "%%file calcula_final.py\n",
    "\n",
    "import sys\n",
    "\n",
    "def nota_del_final(a,b):\n",
    "    res=(110 - 3*a - 3*b)/4\n",
    "    print(\"Calculando por cuánto me voy: \",res)\n",
    "    return res\n",
    "\n",
    "if len(sys.argv) != 3:\n",
    "    #En caso de error por que se han ingresado más de dos argumentos\n",
    "    print(\"Debe ingresar exactamente 2 notas\")\n",
    "\n",
    "x = int(sys.argv[1])\n",
    "y = int(sys.argv[2])\n",
    "\n",
    "resultado = nota_del_final(x,y)\n",
    "print(resultado)"
   ]
  },
  {
   "cell_type": "code",
   "execution_count": 41,
   "metadata": {},
   "outputs": [
    {
     "name": "stdout",
     "output_type": "stream",
     "text": [
      "Debe ingresar exactamente 2 notas\n",
      "Traceback (most recent call last):\n",
      "  File \"/home/emf_ubuntu/1IEE14_EMF_23_1/Lab_1/calcula_final.py\", line 14, in <module>\n",
      "    y = int(sys.argv[2])\n",
      "IndexError: list index out of range\n"
     ]
    }
   ],
   "source": [
    "! python3 calcula_final.py 10"
   ]
  },
  {
   "cell_type": "code",
   "execution_count": 42,
   "metadata": {},
   "outputs": [
    {
     "name": "stdout",
     "output_type": "stream",
     "text": [
      "Calculando por cuánto me voy:  5.0\n",
      "5.0\n"
     ]
    }
   ],
   "source": [
    "! python3 calcula_final.py 10 20"
   ]
  },
  {
   "cell_type": "code",
   "execution_count": 43,
   "metadata": {},
   "outputs": [
    {
     "name": "stdout",
     "output_type": "stream",
     "text": [
      "Writing calcula_final.c\n"
     ]
    }
   ],
   "source": [
    "%%file calcula_final.c\n",
    "\n",
    "#include <stdio.h>\n",
    "#include <stdlib.h>\n",
    "\n",
    "int nota_del_final(int a,int b){\n",
    "    return (110-3*a-3*b)/4;\n",
    "}\n",
    "\n",
    "int main(int argc, char *argv[]){\n",
    "    if(argc != 3){\n",
    "        printf(\"Debe ingresar exactamente 2 notas\\r\\n\");\n",
    "        return 0;\n",
    "    }\n",
    "    int x = atoi(argv[1]);\n",
    "    int y = atoi(argv[2]);\n",
    "\n",
    "    printf(\"Me voy por: %d\",nota_del_final(x,y));\n",
    "    //return 0;\n",
    "}"
   ]
  },
  {
   "cell_type": "code",
   "execution_count": 44,
   "metadata": {},
   "outputs": [],
   "source": [
    "! gcc calcula_final.c -o calcula_final"
   ]
  },
  {
   "cell_type": "code",
   "execution_count": 45,
   "metadata": {},
   "outputs": [
    {
     "name": "stdout",
     "output_type": "stream",
     "text": [
      "Me voy por: 8"
     ]
    }
   ],
   "source": [
    "! ./calcula_final 10 15"
   ]
  },
  {
   "cell_type": "code",
   "execution_count": 52,
   "metadata": {},
   "outputs": [
    {
     "name": "stdout",
     "output_type": "stream",
     "text": [
      "Overwriting nota_final.sh\n"
     ]
    }
   ],
   "source": [
    "%%file nota_final.sh\n",
    "\n",
    "#!/bin/bash\n",
    "\n",
    "time python3 calcula_final.py $1 $2\n",
    "./calcula_final $1 $2"
   ]
  },
  {
   "cell_type": "code",
   "execution_count": 47,
   "metadata": {},
   "outputs": [],
   "source": [
    "! chmod 777 nota_final.sh"
   ]
  },
  {
   "attachments": {},
   "cell_type": "markdown",
   "metadata": {},
   "source": [
    "La celda de arriba era para asegurarnos de que esté como ejecutable, probablemente no sea necesaria en mi máquina en Linux"
   ]
  },
  {
   "cell_type": "code",
   "execution_count": 53,
   "metadata": {},
   "outputs": [
    {
     "name": "stdout",
     "output_type": "stream",
     "text": [
      "Calculando por cuánto me voy:  5.75\n",
      "5.75\n",
      "\n",
      "real\t0m0.241s\n",
      "user\t0m0.104s\n",
      "sys\t0m0.036s\n",
      "Me voy por: 5"
     ]
    }
   ],
   "source": [
    "! ./nota_final.sh 10 19"
   ]
  }
 ],
 "metadata": {
  "kernelspec": {
   "display_name": "Python 3",
   "language": "python",
   "name": "python3"
  },
  "language_info": {
   "codemirror_mode": {
    "name": "ipython",
    "version": 3
   },
   "file_extension": ".py",
   "mimetype": "text/x-python",
   "name": "python",
   "nbconvert_exporter": "python",
   "pygments_lexer": "ipython3",
   "version": "3.10.6"
  },
  "orig_nbformat": 4
 },
 "nbformat": 4,
 "nbformat_minor": 2
}
