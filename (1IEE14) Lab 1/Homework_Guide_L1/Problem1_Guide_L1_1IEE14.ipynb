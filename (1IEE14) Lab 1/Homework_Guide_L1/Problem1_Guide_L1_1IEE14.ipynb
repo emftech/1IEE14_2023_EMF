{
 "cells": [
  {
   "attachments": {},
   "cell_type": "markdown",
   "metadata": {},
   "source": [
    "# Problem 1 - Guide L1 - 1IEE14"
   ]
  },
  {
   "attachments": {},
   "cell_type": "markdown",
   "metadata": {},
   "source": [
    "Se quiere observar la diferencia de tiempos entre un programa en C y otro en Python. Para ello, se debe codiﬁcar lo siguiente:\n",
    "\n",
    "a. Un programa en C que calcule la media harm´onica de un arreglo desde un n´umero A hasta un n´umero B, que incrementa de 1 en 1, ingresados por terminal.\n",
    "\n",
    "b. Un programa en Python que calcule la media harm´onica desde un n´umero A hasta un n´umero B, que incrementa de 1 en 1, ingresados por terminal.\n",
    "\n",
    "c. Codiﬁcar un programa de BASH que arroje el valor de los tiempos de ejecuci´on.\n",
    "\n",
    "Sugerencia: Incluir el comando time en el script de bash.\n",
    "\n",
    "d. Responder qu´e programa ha sido m´as f´acil de codiﬁcar y por qu´e\n",
    "\n",
    "e. Utilizando A=10 y B=20, responder qu´e programa ha sido más r´apido. Adem´as, responder si esto tiene sentido y porqu´e podr´ıa ser.\n",
    "\n",
    "f. Codiﬁcar un programa de BASH que llame al programa de BASH del inciso C y que mediante un ciclo iterativo se ejecuten los programas en C y Python considerando los siguientes pares para { A,B } : { 100, 200 } , { 150,250 } y { 200,300 } .\n",
    "\n",
    "g. De los 3 tiempos mostrados, ¿se mantienen los mismos n´umeros?"
   ]
  },
  {
   "attachments": {},
   "cell_type": "markdown",
   "metadata": {},
   "source": [
    "## Media armónica de un número:"
   ]
  },
  {
   "attachments": {},
   "cell_type": "markdown",
   "metadata": {},
   "source": [
    "La media armónica (designada usualmente mediante H) de una cantidad finita de números es igual al recíproco, o inverso, de la media \n",
    "aritmética de los recíprocos de dichos valores y es recomendada para promediar velocidades.\n",
    "Así, dados n números x1, x2, ... , xn la media armónica será igual a:"
   ]
  },
  {
   "attachments": {},
   "cell_type": "markdown",
   "metadata": {},
   "source": [
    "$$ H = \\frac{n}{\\sum_{i=1}^{n}\\frac{1}{x_i}}=\\frac{n}{\\frac{1}{x_1}+\\cdots+\\frac{1}{x_n}} $$"
   ]
  },
  {
   "cell_type": "code",
   "execution_count": null,
   "metadata": {},
   "outputs": [],
   "source": [
    "%%file harmonic_average.c\n",
    "    int \n",
    "    "
   ]
  },
  {
   "cell_type": "code",
   "execution_count": null,
   "metadata": {
    "vscode": {
     "languageId": "plaintext"
    }
   },
   "outputs": [],
   "source": []
  }
 ],
 "metadata": {
  "language_info": {
   "name": "python"
  },
  "orig_nbformat": 4
 },
 "nbformat": 4,
 "nbformat_minor": 2
}
