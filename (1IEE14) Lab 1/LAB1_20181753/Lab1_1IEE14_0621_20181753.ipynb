{
 "cells": [
  {
   "attachments": {},
   "cell_type": "markdown",
   "metadata": {},
   "source": [
    "# Laboratorio 1 - Parte Calificada - Arquitectura de Computadoras 23-1\n",
    "\n",
    "Alumno: Estéfano Machado Ferrer (20181753)\n",
    "\n",
    "Fecha: 23-03-2023 -> 25-03-2023\n",
    "\n",
    "Curso y Horario: Arquitectura de Computadoras (1IEE14) - Horario de Laboratorio 0621"
   ]
  },
  {
   "attachments": {},
   "cell_type": "markdown",
   "metadata": {},
   "source": [
    "## Pregunta 1\n",
    "\n",
    "Desarrollar un programa en C el cual trabajará con 3 argumentos de entrada (A B C) que se ingresan desde la terminal de Linux, donde:\n",
    "* A: límite inferior del rango evaluar\n",
    "* B: límite superior del rango evaluar\n",
    "* C: opción (1-> para contar primos dentro del rango, 2 -> contar potencias de 2 dentro del rango, 3-> contar potencias de 3,\n",
    "    \n",
    "    k-> contar potencias de k)\n",
    "\n",
    "Ejemplo:\n",
    "\n",
    "Input: 1 12 1 \n",
    "\n",
    "Output: Hay 5 números primos en este rango \n",
    "\n",
    "Input: 1 12 2 Output: Hay 4 potencias de 2 en este rango \n",
    "\n",
    "Output: 7 100 3 Output: Hay 3 potencias de 3 en este rango \n",
    "\n",
    "El archivo con la solución del problema deberá llamarse pregunta1.c"
   ]
  },
  {
   "cell_type": "code",
   "execution_count": 94,
   "metadata": {},
   "outputs": [
    {
     "name": "stdout",
     "output_type": "stream",
     "text": [
      "Writing pregunta1.c\n"
     ]
    }
   ],
   "source": [
    "%%file pregunta1.c\n",
    "\n",
    "#include <stdio.h>\n",
    "#include <stdlib.h>\n",
    "#include <math.h>\n",
    "\n",
    "int main(int argc, char *argv[]){\n",
    "    if(argc != 4){\n",
    "        //Validamos que se ingresen 3 argumentos, el otro es el nombre (arg 0)\n",
    "        printf(\"Debe ingresar exactamente 3 valores\\r\\n\");\n",
    "    }\n",
    "    int A = atoi(argv[1]);\n",
    "    int B = atoi(argv[2]);\n",
    "    int C = atoi(argv[3]);\n",
    "\n",
    "    if (C==1){\n",
    "        //Opción para contar números primos en el rango:\n",
    "        int counter_primes=0; //contador de números primos en el rango, inicializado en 0 antes del loop\n",
    "        int counter_div; //contador de divisores diferentes de 1\n",
    "        for(int i=A; i<=B; i++){\n",
    "            counter_div=0; //inicializamos en 0 la cantidad de divisores para cada número del rango en cada iteración\n",
    "            for(int j=2;j<=i/2;j++){\n",
    "                //Si hasta llegar a la mitad del número no tenemos divisores, entonces podemos afirmar que es primo\n",
    "                if(i%j==0){\n",
    "                    counter_div++;\n",
    "                }\n",
    "            }\n",
    "            if(counter_div==0 && i>1){\n",
    "                //Es primo si no tiene divisores en el rango dado y es mayor que 1\n",
    "                counter_primes++;\n",
    "            }\n",
    "        }\n",
    "        printf(\"Hay %d números primos en este rango.\",counter_primes);\n",
    "    }\n",
    "    else if(C==2){\n",
    "        /* Realizamos un cambio de base logarítmico para iterar desde 0 hasta el logaritmo\n",
    "        en base 2 del límite superior del rango y así poder encontrar todas las posibles potencias de dos\n",
    "        sin iterar más de lo necesario. */\n",
    "        int current_2_pow;\n",
    "        int counter_pow2=0; //contador de potencias de 2 dentro del rango\n",
    "        for(int j=0; j<=log(B)/log(2); j++){ \n",
    "            //iteramos hasta el logaritmo en base 2 de B\n",
    "            current_2_pow=pow(2,j);\n",
    "            if(current_2_pow>=A && current_2_pow<=B){\n",
    "                counter_pow2++;\n",
    "            }\n",
    "        }\n",
    "        printf(\"Hay %d potencias de 2 en este rango.\",counter_pow2);\n",
    "    }\n",
    "    else if(C==3){\n",
    "        //Opción para contar potencias de 3 dentro del rango\n",
    "        int current_3_pow;\n",
    "        int counter_pow3=0; //contador de potencias de 3 dentro del rango\n",
    "        for(int j=0; j<=log(B)/log(3); j++){ \n",
    "            /*Tomamos un cambio de base logarítmico, similarmente a lo realizado anteriormente,\n",
    "            e iteramos hasta el logaritmo en base 3 de B.*/\n",
    "            current_3_pow=pow(3,j);\n",
    "            if(current_3_pow>=A && current_3_pow<=B){\n",
    "                counter_pow3++;\n",
    "            }\n",
    "        }\n",
    "        printf(\"Hay %d potencias de 3 en este rango\",counter_pow3);\n",
    "    }\n",
    "    else {\n",
    "        //Opción para contar potencias de k dentro del rango\n",
    "        int current_k_pow;\n",
    "        int counter_powk=0; //contador de potencias de k dentro del rango\n",
    "        for(int j=0; j<=log(B)/log(C); j++){ \n",
    "            /*Tomamos un cambio de base logarítmico, similarmente a lo realizado anteriormente,\n",
    "            e iteramos hasta el logaritmo en base k de B.*/\n",
    "            current_k_pow=pow(C,j);\n",
    "            if(current_k_pow>=A && current_k_pow<=B){\n",
    "                counter_powk++;\n",
    "            }\n",
    "        }\n",
    "        printf(\"Hay %d potencias de %d en este rango\",counter_powk,C);\n",
    "    }\n",
    "}"
   ]
  },
  {
   "attachments": {},
   "cell_type": "markdown",
   "metadata": {},
   "source": [
    "Ahora probamos que el programa funciona con los outputs de ejemplo y algunos otros más:"
   ]
  },
  {
   "cell_type": "code",
   "execution_count": 95,
   "metadata": {},
   "outputs": [],
   "source": [
    "! gcc pregunta1.c -o pregunta1_exec -lm #Compilamos y creamos un ejecutable, agregamos -lm para que el enlazador agregue al final\n",
    "#las librerías incluídas, sobretodo <math.h>\n",
    "#source: https://stackoverflow.com/questions/11336477/gcc-will-not-properly-include-math-h"
   ]
  },
  {
   "cell_type": "code",
   "execution_count": 96,
   "metadata": {},
   "outputs": [
    {
     "name": "stdout",
     "output_type": "stream",
     "text": [
      "Hay 5 números primos en este rango."
     ]
    }
   ],
   "source": [
    "! ./pregunta1_exec 1 12 1"
   ]
  },
  {
   "cell_type": "code",
   "execution_count": 97,
   "metadata": {},
   "outputs": [
    {
     "name": "stdout",
     "output_type": "stream",
     "text": [
      "Hay 4 números primos en este rango."
     ]
    }
   ],
   "source": [
    "! ./pregunta1_exec 10 20 1"
   ]
  },
  {
   "cell_type": "code",
   "execution_count": 98,
   "metadata": {},
   "outputs": [
    {
     "name": "stdout",
     "output_type": "stream",
     "text": [
      "Hay 4 potencias de 2 en este rango."
     ]
    }
   ],
   "source": [
    "! ./pregunta1_exec 1 12 2"
   ]
  },
  {
   "cell_type": "code",
   "execution_count": 99,
   "metadata": {},
   "outputs": [
    {
     "name": "stdout",
     "output_type": "stream",
     "text": [
      "Hay 3 potencias de 3 en este rango"
     ]
    }
   ],
   "source": [
    "! ./pregunta1_exec 7 100 3"
   ]
  },
  {
   "cell_type": "code",
   "execution_count": 100,
   "metadata": {},
   "outputs": [
    {
     "name": "stdout",
     "output_type": "stream",
     "text": [
      "Hay 3 potencias de 5 en este rango"
     ]
    }
   ],
   "source": [
    "! ./pregunta1_exec 7 626 5"
   ]
  },
  {
   "cell_type": "code",
   "execution_count": 101,
   "metadata": {},
   "outputs": [
    {
     "name": "stdout",
     "output_type": "stream",
     "text": [
      "Debe ingresar exactamente 3 valores\n"
     ]
    }
   ],
   "source": [
    "! ./pregunta1_exec 7 626 #Comprobamos el mensaje de error cuando no se dan 3 argumentos de input"
   ]
  },
  {
   "attachments": {},
   "cell_type": "markdown",
   "metadata": {},
   "source": [
    "## Pregunta 2\n",
    "\n",
    "Solucione el mismo ejercicio de la pregunta 1, pero esta vez en lenguaje Python. Su archivo deberá llamarse pregunta2.py"
   ]
  },
  {
   "cell_type": "code",
   "execution_count": 102,
   "metadata": {},
   "outputs": [
    {
     "name": "stdout",
     "output_type": "stream",
     "text": [
      "Writing pregunta2.py\n"
     ]
    }
   ],
   "source": [
    "%%file pregunta2.py\n",
    "\n",
    "import math\n",
    "import sys\n",
    "\n",
    "if len(sys.argv) != 4:\n",
    "    #Validamos que se ingresen 3 argumentos, el otro es el nombre (arg 0)\n",
    "    print(\"Debe ingresar exactamente 3 valores\")\n",
    "    sys.exit() #Agregamos este \"break\" para que no de un error de fuera de rango al intentar seguir con la ejecución del programa\n",
    "    #a pesar de no tener los inputs necesarios\n",
    "\n",
    "A = int(sys.argv[1])\n",
    "B = int(sys.argv[2])\n",
    "C = int(sys.argv[3])\n",
    "\n",
    "if C==1:\n",
    "    counter_primes=0 #contador de números primos en el rango, inicializado en 0 antes del loop\n",
    "    #Opción para contar números primos en el rango:\n",
    "    for i in range(A,B):\n",
    "        counter_div=0 #inicializamos en 0 la cantidad de divisores para cada número del rango en cada iteración\n",
    "        for j in range(2,int(i/2)+1): #por si acaso casteamos a int para evitar que se use float y sea decimal\n",
    "            #Si hasta llegar a la mitad del número no tenemos divisores, entonces podemos afirmar que es primo\n",
    "            #range(A.B) va desde A hasta B-1\n",
    "            if i%j==0:\n",
    "                counter_div=counter_div+1\n",
    "        if (counter_div==0 and i>1):\n",
    "            #Es primo si no tiene divisores en el rango dado y es mayor que 1\n",
    "            counter_primes=counter_primes+1\n",
    "    print(f\"Hay {counter_primes} números primos en este rango\")\n",
    "elif C==2:\n",
    "    #Opción para contar potencias de 2 dentro del rango\n",
    "    counter_pow2=0 #contador de potencias de 2 dentro del rango\n",
    "    for i in range(0,int(math.log(B)/math.log(2))+1):\n",
    "        #Realizamos un cambio de base logarítmico para iterar desde 0 hasta el logaritmo\n",
    "        #en base 2 del límite superior del rango y así poder encontrar todas las posibles potencias de dos\n",
    "        #sin iterar más de lo necesario.\n",
    "        current_2_pow=math.pow(2,i)\n",
    "        if (current_2_pow>=A and current_2_pow<=B):\n",
    "            counter_pow2=counter_pow2+1\n",
    "    print(f\"Hay {counter_pow2} potencias de 2 en este rango.\" )\n",
    "\n",
    "elif C==3:\n",
    "    #Opción para contar potencias de 3 dentro del rango\n",
    "    counter_pow3=0 #contador de potencias de 3 dentro del rango\n",
    "    for i in range(0,int(math.log(B)/math.log(3))+1):\n",
    "        #Tomamos un cambio de base logarítmico, similarmente a lo realizado anteriormente,\n",
    "        #e iteramos hasta el logaritmo en base 3 de B.\n",
    "        current_3_pow=math.pow(3,i)\n",
    "        if (current_3_pow>=A and current_3_pow<=B):\n",
    "            counter_pow3=counter_pow3+1\n",
    "    print(f\"Hay {counter_pow3} potencias de 3 en este rango.\" )\n",
    "else:\n",
    "    #Opción para contar potencias de k dentro del rango\n",
    "    counter_powk=0 #contador de potencias de k dentro del rango\n",
    "    for i in range(0,int(math.log(B)/math.log(C))+1):\n",
    "        #Tomamos un cambio de base logarítmico, similarmente a lo realizado anteriormente,\n",
    "        #e iteramos hasta el logaritmo en base k de B.\n",
    "        current_k_pow=math.pow(3,i)\n",
    "        if (current_k_pow>=A and current_k_pow<=B):\n",
    "            counter_powk=counter_powk+1\n",
    "    print(f\"Hay {counter_powk} potencias de {C} en este rango.\" )"
   ]
  },
  {
   "attachments": {},
   "cell_type": "markdown",
   "metadata": {},
   "source": [
    "Ahora probamos que el programa funciona con los outputs similares a los probados en la pregunta anterior:"
   ]
  },
  {
   "cell_type": "code",
   "execution_count": 103,
   "metadata": {},
   "outputs": [
    {
     "name": "stdout",
     "output_type": "stream",
     "text": [
      "Hay 5 números primos en este rango\n"
     ]
    }
   ],
   "source": [
    "! python3 pregunta2.py 1 12 1"
   ]
  },
  {
   "cell_type": "code",
   "execution_count": 104,
   "metadata": {},
   "outputs": [
    {
     "name": "stdout",
     "output_type": "stream",
     "text": [
      "Hay 4 números primos en este rango\n"
     ]
    }
   ],
   "source": [
    "! python3 pregunta2.py 10 20 1"
   ]
  },
  {
   "cell_type": "code",
   "execution_count": 105,
   "metadata": {},
   "outputs": [
    {
     "name": "stdout",
     "output_type": "stream",
     "text": [
      "Hay 4 potencias de 2 en este rango.\n"
     ]
    }
   ],
   "source": [
    "! python3 pregunta2.py 1 12 2"
   ]
  },
  {
   "cell_type": "code",
   "execution_count": 106,
   "metadata": {},
   "outputs": [
    {
     "name": "stdout",
     "output_type": "stream",
     "text": [
      "Hay 3 potencias de 3 en este rango.\n"
     ]
    }
   ],
   "source": [
    "! python3 pregunta2.py 7 100 3"
   ]
  },
  {
   "cell_type": "code",
   "execution_count": 107,
   "metadata": {},
   "outputs": [
    {
     "name": "stdout",
     "output_type": "stream",
     "text": [
      "Hay 3 potencias de 5 en este rango.\n"
     ]
    }
   ],
   "source": [
    "! python3 pregunta2.py 7 626 5"
   ]
  },
  {
   "cell_type": "code",
   "execution_count": 108,
   "metadata": {},
   "outputs": [
    {
     "name": "stdout",
     "output_type": "stream",
     "text": [
      "Debe ingresar exactamente 3 valores\n"
     ]
    }
   ],
   "source": [
    "! python3 pregunta2.py 7 626"
   ]
  },
  {
   "attachments": {},
   "cell_type": "markdown",
   "metadata": {},
   "source": [
    "## Pregunta 3\n",
    "\n",
    "Codificar el script de bash pregunta3.sh el cual debe realizar lo siguiente:\n",
    "\n",
    "    a) Recibir como parámetro de entrada su código PUCP e Imprimir su nombre completo seguido de su código ingresado.\n",
    "\n",
    "    b) Crear los directorios Pregunta1 y Pregunta2. Los directorios deberán tener permisos de lectura, escritura, y ejecución para todos.\n",
    "\n",
    "    c) Copiar todos los archivos de la pregunta 1 en el directorio Pregunta1.\n",
    "\n",
    "    d) Generar el archivo ejecutable de la pregunta 1 en el directorio Pregunta1.\n",
    "\n",
    "    e) Ejecutar su programa en C con la opción 1 100 4 y calcular el tiempo de ejecución utilizando la librería time de bash.\n",
    "\n",
    "    f) Ejecutar su programa en Python con la opción 1 100 4 y calcular el tiempo de ejecución utilizando el comando time en el script de bash.\n",
    "\n",
    "    g) Agregar un condicional para que, en caso su programa reciba menos de 3 argumentos de entrada, en el terminal se imprima “Debe ingresar 3 argumentos de entrada\"."
   ]
  },
  {
   "attachments": {},
   "cell_type": "markdown",
   "metadata": {},
   "source": [
    "Buscamos el directorio donde està el intérprete de bash de mi máquina virtual para utilizar #shebang correctamente"
   ]
  },
  {
   "cell_type": "code",
   "execution_count": 109,
   "metadata": {},
   "outputs": [
    {
     "name": "stdout",
     "output_type": "stream",
     "text": [
      "/bin/bash\n"
     ]
    }
   ],
   "source": [
    "! which bash"
   ]
  },
  {
   "cell_type": "code",
   "execution_count": 110,
   "metadata": {},
   "outputs": [
    {
     "name": "stdout",
     "output_type": "stream",
     "text": [
      "Writing pregunta3.sh\n"
     ]
    }
   ],
   "source": [
    "%%file pregunta3.sh\n",
    "#!/bin/bash\n",
    "\n",
    "#Parte a\n",
    "if [ $1 == \"20181753\" ]\n",
    "    #Si es que se recibe mi código como entrada:\n",
    "then\n",
    "    echo \"César Estéfano Machado Ferrer $1\"\n",
    "fi\n",
    "\n",
    "#Parte b\n",
    "mkdir Pregunta1\n",
    "mkdir Pregunta2\n",
    "\n",
    "chmod 777 Pregunta1 #permisos de read, write and execution para todos\n",
    "chmod 777 Pregunta2 #permisos de read, write and execution para todos\n",
    "\n",
    "#Parte c\n",
    "cp pregunta1.c ./Pregunta1/\n",
    "\n",
    "#Parte d\n",
    "cd ./Pregunta1/\n",
    "gcc pregunta1.c -o pregunta1_exec -lm #agregamos -lm para linkear math.h\n",
    "\n",
    "#Parte e\n",
    "time ./pregunta1_exec 1 100 4\n",
    "\n",
    "#Parte f\n",
    "cd .. #regresamos al directorio anterior donde está pregunta2.py\n",
    "time python3 pregunta2.py 1 100 4\n",
    "\n",
    "#Parte g\n",
    "#modificación realizada en los programas internos de las preguntas 1 y 2, procedemos a validarlos\n",
    "#usando este script de bash, asì como lo hicimos arriba, poniendo solo dos argumentos de entrada:\n",
    "./pregunta1_exec 7 625\n",
    "python3 pregunta2.py 7 625"
   ]
  },
  {
   "cell_type": "code",
   "execution_count": 111,
   "metadata": {},
   "outputs": [],
   "source": [
    "! chmod 777 ./pregunta3.sh #nos aseguramos de que sea ejecutable"
   ]
  },
  {
   "cell_type": "code",
   "execution_count": 112,
   "metadata": {},
   "outputs": [
    {
     "name": "stdout",
     "output_type": "stream",
     "text": [
      "César Estéfano Machado Ferrer 20181753\n",
      "Hay 4 potencias de 4 en este rango\n",
      "real\t0m0.023s\n",
      "user\t0m0.003s\n",
      "sys\t0m0.005s\n",
      "Hay 4 potencias de 4 en este rango.\n",
      "\n",
      "real\t0m0.287s\n",
      "user\t0m0.112s\n",
      "sys\t0m0.045s\n",
      "Debe ingresar exactamente 3 valores\n",
      "./pregunta3.sh: line 34:  4547 Segmentation fault      (core dumped) ./pregunta1_exec 7 625\n",
      "Debe ingresar exactamente 3 valores\n"
     ]
    }
   ],
   "source": [
    "! ./pregunta3.sh 20181753 #ponemos como entrada mi código para que muestre mi nombre"
   ]
  }
 ],
 "metadata": {
  "kernelspec": {
   "display_name": "Python 3",
   "language": "python",
   "name": "python3"
  },
  "language_info": {
   "codemirror_mode": {
    "name": "ipython",
    "version": 3
   },
   "file_extension": ".py",
   "mimetype": "text/x-python",
   "name": "python",
   "nbconvert_exporter": "python",
   "pygments_lexer": "ipython3",
   "version": "3.10.6"
  },
  "orig_nbformat": 4
 },
 "nbformat": 4,
 "nbformat_minor": 2
}
